{
  "nbformat": 4,
  "nbformat_minor": 0,
  "metadata": {
    "colab": {
      "provenance": [],
      "authorship_tag": "ABX9TyNLSCWaqanp8+C8cu3woQYT",
      "include_colab_link": true
    },
    "kernelspec": {
      "name": "python3",
      "display_name": "Python 3"
    },
    "language_info": {
      "name": "python"
    }
  },
  "cells": [
    {
      "cell_type": "markdown",
      "metadata": {
        "id": "view-in-github",
        "colab_type": "text"
      },
      "source": [
        "<a href=\"https://colab.research.google.com/github/Irina-Bichik/Probability_theory_and_mathematical_statistics/blob/master/%D0%A2%D0%B5%D1%81%D1%82%D0%B8%D1%80%D0%BE%D0%B2%D0%B0%D0%BD%D0%B8%D0%B5_%D0%B3%D0%B8%D0%BF%D0%BE%D1%82%D0%B5%D0%B7.ipynb\" target=\"_parent\"><img src=\"https://colab.research.google.com/assets/colab-badge.svg\" alt=\"Open In Colab\"/></a>"
      ]
    },
    {
      "cell_type": "code",
      "source": [
        "import numpy as np\n",
        "import math\n",
        "import scipy.stats as stats"
      ],
      "metadata": {
        "id": "eM2tJsnyJZTw"
      },
      "execution_count": 2,
      "outputs": []
    },
    {
      "cell_type": "markdown",
      "source": [
        "**Задание 1.**\n",
        "\n",
        "Когда используется критерий Стьюдента, а когда Z –критерий?"
      ],
      "metadata": {
        "id": "NNNdLWBW5Gz4"
      }
    },
    {
      "cell_type": "markdown",
      "source": [
        "Если условия применимости параметрических тестов соблюдены, то в случае известной сигмы генеральной совокупности более предпочтителен Z- критерий, если неизвестна сигма генеральной совокупности -  критерий Стьюдента t."
      ],
      "metadata": {
        "id": "ls-1qAD55MCf"
      }
    },
    {
      "cell_type": "markdown",
      "source": [
        "**Задание 2.**\n",
        "\n",
        "Проведите тест гипотезы. Утверждается, что шарики для подшипников, изготовленные автоматическим станком, имеют средний диаметр 17 мм. Используя односторонний критерий с α=0,05, проверить эту гипотезу, если в выборке из n=100 шариков средний диаметр оказался равным 17.5 мм, а дисперсия известна и равна 4 кв. мм."
      ],
      "metadata": {
        "id": "RaApPEjT6Zo8"
      }
    },
    {
      "cell_type": "markdown",
      "source": [
        "\n",
        "Гипотезы:\n",
        "\n",
        "Н0 = 17 мм - нулевая гипотеза - cредний диаметр равен 17 мм\n",
        "\n",
        "Н1 > 17 мм - альтернативная гипотеза - средний диаметр больше 17 мм\n",
        "\n",
        "α=0.05- уровень значимости\n",
        "\n",
        "𝞼 = 4**0.5 = 2 - среднее квадратичное отклонение генеральной совокупности"
      ],
      "metadata": {
        "id": "keyIsZU27zef"
      }
    },
    {
      "cell_type": "code",
      "source": [
        "Z = (17.5-17)/(4**0.5/100**0.5) #расчетный Z критерий по выборке\n",
        "print (Z)"
      ],
      "metadata": {
        "colab": {
          "base_uri": "https://localhost:8080/"
        },
        "id": "x6bJuAkr9rua",
        "outputId": "c5ef58c3-08b7-430b-fe50-de8524e133b1"
      },
      "execution_count": 12,
      "outputs": [
        {
          "output_type": "stream",
          "name": "stdout",
          "text": [
            "2.5\n"
          ]
        }
      ]
    },
    {
      "cell_type": "markdown",
      "source": [
        "Приблизительное Z табличное 1.645"
      ],
      "metadata": {
        "id": "AbiT0bo6GFr1"
      }
    },
    {
      "cell_type": "markdown",
      "source": [
        "Получается, что расчетное значение 2.5 попадает в область принятия гипотезы H1. Оно больше 1.645. Т.е. делаем вывод, что верна альтернативная гипотеза о том, что средний диаметр шарика больше 17 мм на уровне значимости 5%."
      ],
      "metadata": {
        "id": "VUTWECxTGMyl"
      }
    },
    {
      "cell_type": "markdown",
      "source": [
        "**Задание 3.**\n",
        "\n",
        "Проведите тест гипотезы. Продавец утверждает, что средний вес пачки печенья составляет 200 г. Из партии извлечена выборка из 10 пачек. Вес каждой пачки составляет:\n",
        "\n",
        "202, 203, 199, 197, 195, 201, 200, 204, 194, 190.\n",
        "\n",
        "Известно, что их веса распределены нормально.\n",
        "\n",
        "Верно ли утверждение продавца, если учитывать, что доверительная вероятность равна 99%?\n",
        "\n",
        "(Провести двусторонний тест.)"
      ],
      "metadata": {
        "id": "3hrgQusZIkhE"
      }
    },
    {
      "cell_type": "markdown",
      "source": [
        "Гипотезы:\n",
        "\n",
        "Н0 = 200 г - нулевая гипотеза - средний вес пачки печенья состаляет 200 г\n",
        "\n",
        "Н1 != 200 г - альтернативная гипотеза - средний вес пачки печенья не состаляет 200 г"
      ],
      "metadata": {
        "id": "E4NodPKqJpjJ"
      }
    },
    {
      "cell_type": "code",
      "source": [
        "weights = np.array([202, 203, 199, 197, 195, 201, 200, 204, 194, 190])"
      ],
      "metadata": {
        "id": "l3BMDpikJXx4"
      },
      "execution_count": 12,
      "outputs": []
    },
    {
      "cell_type": "code",
      "source": [
        "MO = sum (weights) /len(weights)\n",
        "print(f'Математическое ожидание = {MO: .2f}')"
      ],
      "metadata": {
        "colab": {
          "base_uri": "https://localhost:8080/"
        },
        "id": "Yh_Qo6-tLHZ0",
        "outputId": "7f7b43e8-fa61-4265-a209-cb21d399b3e9"
      },
      "execution_count": 13,
      "outputs": [
        {
          "output_type": "stream",
          "name": "stdout",
          "text": [
            "Математическое ожидание =  198.50\n"
          ]
        }
      ]
    },
    {
      "cell_type": "code",
      "source": [
        "# σ = √ ( ( ∑ ( xi - μ )² ) / (n-1) ) - несмещенное стандартное отклонение\n",
        "std = math.sqrt(sum((x - MO) ** 2 for x in weights) / (len(weights)-1))\n",
        "print(f'Несмещенное стандартное отклонение = {std: .3f}')"
      ],
      "metadata": {
        "colab": {
          "base_uri": "https://localhost:8080/"
        },
        "id": "Of8TRJyGObjP",
        "outputId": "3a861ba8-a4a0-42f0-d31c-f2549315d09d"
      },
      "execution_count": 14,
      "outputs": [
        {
          "output_type": "stream",
          "name": "stdout",
          "text": [
            "Несмещенное стандартное отклонение =  4.453\n"
          ]
        }
      ]
    },
    {
      "cell_type": "markdown",
      "source": [
        "Критерий Стьюдента\n",
        "\n",
        "t=(X - μ)/(σ/√n)"
      ],
      "metadata": {
        "id": "b80agOYXDZIg"
      }
    },
    {
      "cell_type": "code",
      "source": [
        "t = (MO-200)/(std/np.sqrt(len(weights)))\n",
        "print (f' Расчетное значение t = {t: .3f}')"
      ],
      "metadata": {
        "colab": {
          "base_uri": "https://localhost:8080/"
        },
        "id": "OQrOA_5TEPla",
        "outputId": "5310ad5e-995e-452a-8eb9-ae876c02a310"
      },
      "execution_count": 18,
      "outputs": [
        {
          "output_type": "stream",
          "name": "stdout",
          "text": [
            " Расчетное значение t = -1.065\n"
          ]
        }
      ]
    },
    {
      "cell_type": "markdown",
      "source": [
        "число степеней свободы = n - 1 = 10-1 = 9\n",
        "\n",
        "доверительная вероятность равна 99% = 0.99\n",
        "\n",
        "уровень значимости = 1 - 0.99 = 0.01\n",
        "\n",
        "найдем табличное значение t-критерия, где p = 0.99 + 0.01/2 = 0.995"
      ],
      "metadata": {
        "id": "FVlPNfQXFBXT"
      }
    },
    {
      "cell_type": "markdown",
      "source": [
        " t(1) = -3.25\n",
        "\n",
        " t(2) = 3.25"
      ],
      "metadata": {
        "id": "vnWOH4grFbQe"
      }
    },
    {
      "cell_type": "markdown",
      "source": [
        "Расчетное значение t не попадает в критическую область. Значит принимаем нулевую гипотезу и делаем вывод, что утверждение продавца верно на уровне значимости 1%."
      ],
      "metadata": {
        "id": "DEhKWYQoGNDF"
      }
    },
    {
      "cell_type": "markdown",
      "source": [
        "**Задание 4.**\n",
        "\n",
        "Есть ли статистически значимые различия в росте дочерей?\n",
        "\n",
        "Рост матерей 172, 177, 158, 170, 178,175, 164, 160, 169, 165\n",
        "\n",
        "Рост взрослых дочерей: 173, 175, 162, 174, 175, 168, 155, 170, 160"
      ],
      "metadata": {
        "id": "AGEQ329RIAEm"
      }
    },
    {
      "cell_type": "code",
      "source": [
        "mothers = [172, 177, 158, 170, 178, 175, 164, 160, 169, 165]\n",
        "daughters = [173, 175, 162, 174, 175, 168, 155, 170, 160, 163]\n",
        "\n",
        "stats.ttest_rel(mothers, daughters)"
      ],
      "metadata": {
        "colab": {
          "base_uri": "https://localhost:8080/"
        },
        "id": "awNP9uJ2IQCU",
        "outputId": "9189470a-8b76-4f40-ef50-59e9e3381940"
      },
      "execution_count": 21,
      "outputs": [
        {
          "output_type": "execute_result",
          "data": {
            "text/plain": [
              "TtestResult(statistic=0.6648478531431979, pvalue=0.5228168632983574, df=9)"
            ]
          },
          "metadata": {},
          "execution_count": 21
        }
      ]
    },
    {
      "cell_type": "code",
      "source": [
        "α=0.05\n",
        "pvalue=0.5228168632983574\n",
        "pvalue > α"
      ],
      "metadata": {
        "colab": {
          "base_uri": "https://localhost:8080/"
        },
        "id": "QchyROfANbPh",
        "outputId": "532add54-02e7-4c75-90e6-f92e52b42658"
      },
      "execution_count": 23,
      "outputs": [
        {
          "output_type": "execute_result",
          "data": {
            "text/plain": [
              "True"
            ]
          },
          "metadata": {},
          "execution_count": 23
        }
      ]
    },
    {
      "cell_type": "markdown",
      "source": [
        "Для уровня значимости α=0.05 статистически значимых различий в росте нет."
      ],
      "metadata": {
        "id": "-vKWHVNWNMAZ"
      }
    }
  ]
}