{
  "nbformat": 4,
  "nbformat_minor": 0,
  "metadata": {
    "colab": {
      "provenance": [],
      "authorship_tag": "ABX9TyMC9esaEMn8K5pdvObNt+rK",
      "include_colab_link": true
    },
    "kernelspec": {
      "name": "python3",
      "display_name": "Python 3"
    },
    "language_info": {
      "name": "python"
    }
  },
  "cells": [
    {
      "cell_type": "markdown",
      "metadata": {
        "id": "view-in-github",
        "colab_type": "text"
      },
      "source": [
        "<a href=\"https://colab.research.google.com/github/Irina-Bichik/Probability_theory_and_mathematical_statistics/blob/master/10_%D0%94%D0%B8%D1%81%D0%BF%D0%B5%D1%80%D1%81%D0%B8%D0%BE%D0%BD%D0%BD%D1%8B%D0%B9_%D0%B0%D0%BD%D0%B0%D0%BB%D0%B8%D0%B7.ipynb\" target=\"_parent\"><img src=\"https://colab.research.google.com/assets/colab-badge.svg\" alt=\"Open In Colab\"/></a>"
      ]
    },
    {
      "cell_type": "code",
      "source": [
        "import scipy.stats as stats\n",
        "import numpy as np"
      ],
      "metadata": {
        "id": "caENp_Mpgmle"
      },
      "execution_count": 1,
      "outputs": []
    },
    {
      "cell_type": "markdown",
      "source": [
        "Провести дисперсионный анализ для определения того, есть ли различия среднего роста среди взрослых футболистов, хоккеистов и штангистов.\n",
        "\n",
        "Даны значения роста в трех группах случайно выбранных спортсменов:\n",
        "\n",
        "Футболисты: 173, 175, 180, 178, 177, 185, 183, 182.\n",
        "\n",
        "Хоккеисты: 177, 179, 180, 188, 177, 172, 171, 184, 180.\n",
        "\n",
        "Штангисты: 172, 173, 169, 177, 166, 180, 178, 177, 172, 166, 170.\n"
      ],
      "metadata": {
        "id": "wwjewC4SgZia"
      }
    },
    {
      "cell_type": "code",
      "source": [
        "football_players=np.array([173, 175, 180, 178, 177, 185, 183, 182])\n",
        "hockey_players=np.array([177, 179, 180, 188, 177, 172, 171, 184, 180])\n",
        "weightlifters=np.array([172, 173, 169, 177, 166, 180, 178, 177, 172, 166, 170])\n",
        "alpha=0.05"
      ],
      "metadata": {
        "id": "bRgTdS7pglpa"
      },
      "execution_count": 3,
      "outputs": []
    },
    {
      "cell_type": "code",
      "execution_count": 6,
      "metadata": {
        "colab": {
          "base_uri": "https://localhost:8080/"
        },
        "id": "Xv1hQ6v3gUmz",
        "outputId": "5c6fa15b-0b7e-4f29-978e-ed7e65fa4685"
      },
      "outputs": [
        {
          "output_type": "execute_result",
          "data": {
            "text/plain": [
              "ShapiroResult(statistic=0.9775082468986511, pvalue=0.9495404362678528)"
            ]
          },
          "metadata": {},
          "execution_count": 6
        }
      ],
      "source": [
        "stats.shapiro(football_players)"
      ]
    },
    {
      "cell_type": "markdown",
      "source": [
        "Вывод:\n",
        "\n",
        "p-value больше alpha => нормальное распределение"
      ],
      "metadata": {
        "id": "koDKsEYXhwad"
      }
    },
    {
      "cell_type": "code",
      "source": [
        "stats.shapiro(hockey_players)"
      ],
      "metadata": {
        "colab": {
          "base_uri": "https://localhost:8080/"
        },
        "id": "dCndGwYXhN5L",
        "outputId": "23d65621-725e-4d0d-cd50-18af7ea91ebf"
      },
      "execution_count": 7,
      "outputs": [
        {
          "output_type": "execute_result",
          "data": {
            "text/plain": [
              "ShapiroResult(statistic=0.9579196572303772, pvalue=0.7763139009475708)"
            ]
          },
          "metadata": {},
          "execution_count": 7
        }
      ]
    },
    {
      "cell_type": "markdown",
      "source": [
        "Вывод:\n",
        "\n",
        "p-value больше alpha => нормальное распределение"
      ],
      "metadata": {
        "id": "tpDHRPB8hxii"
      }
    },
    {
      "cell_type": "code",
      "source": [
        "stats.shapiro(weightlifters)"
      ],
      "metadata": {
        "colab": {
          "base_uri": "https://localhost:8080/"
        },
        "id": "VWNYWuA4hQeP",
        "outputId": "2953da7f-fd6d-4c8e-a078-07d105ddf7b6"
      },
      "execution_count": 8,
      "outputs": [
        {
          "output_type": "execute_result",
          "data": {
            "text/plain": [
              "ShapiroResult(statistic=0.9386808276176453, pvalue=0.5051165223121643)"
            ]
          },
          "metadata": {},
          "execution_count": 8
        }
      ]
    },
    {
      "cell_type": "markdown",
      "source": [
        "Вывод:\n",
        "\n",
        "p-value больше alpha => нормальное распределение"
      ],
      "metadata": {
        "id": "e5sQdqAHhWNQ"
      }
    },
    {
      "cell_type": "code",
      "source": [
        "stats.bartlett(football_players, hockey_players, weightlifters)"
      ],
      "metadata": {
        "colab": {
          "base_uri": "https://localhost:8080/"
        },
        "id": "o0PF4JThh4hS",
        "outputId": "c1b62cc9-3058-457b-ccd8-8c1d8b618cbe"
      },
      "execution_count": 9,
      "outputs": [
        {
          "output_type": "execute_result",
          "data": {
            "text/plain": [
              "BartlettResult(statistic=0.4640521043406442, pvalue=0.7929254656083131)"
            ]
          },
          "metadata": {},
          "execution_count": 9
        }
      ]
    },
    {
      "cell_type": "markdown",
      "source": [
        "Вывод:\n",
        "\n",
        "p-value больше alpha => дисперсии равны"
      ],
      "metadata": {
        "id": "sd2ByBUohzMS"
      }
    },
    {
      "cell_type": "markdown",
      "source": [
        "Гипотезы для однофакторного дисперсионного анализа:\n",
        "\n",
        " Н0- различий среднего роста нет\n",
        "\n",
        " Н1- различия среднего роста есть"
      ],
      "metadata": {
        "id": "FEkFtOqTiJa3"
      }
    },
    {
      "cell_type": "code",
      "source": [
        "stats.f_oneway(football_players, hockey_players, weightlifters)"
      ],
      "metadata": {
        "colab": {
          "base_uri": "https://localhost:8080/"
        },
        "id": "yl6RQrsCiCOi",
        "outputId": "d75a8deb-2be5-482a-dd5e-112279a4a722"
      },
      "execution_count": 10,
      "outputs": [
        {
          "output_type": "execute_result",
          "data": {
            "text/plain": [
              "F_onewayResult(statistic=5.500053450812596, pvalue=0.010482206918698694)"
            ]
          },
          "metadata": {},
          "execution_count": 10
        }
      ]
    },
    {
      "cell_type": "markdown",
      "source": [
        "Вывод:\n",
        "\n",
        "так как p-value = 0,0105 на уровне стат значимости 0,05\n",
        "\n",
        "принимаем альтернативную гипотезу Н1 - есть различия среднего роста среди взрослых футболистов, хоккеистов и штангистов.\n",
        "\n"
      ],
      "metadata": {
        "id": "PPJAO8w9inmg"
      }
    }
  ]
}