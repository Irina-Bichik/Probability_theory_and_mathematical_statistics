{
  "nbformat": 4,
  "nbformat_minor": 0,
  "metadata": {
    "colab": {
      "provenance": [],
      "authorship_tag": "ABX9TyPt6JLrpW+g/nuH0LF00M0c",
      "include_colab_link": true
    },
    "kernelspec": {
      "name": "python3",
      "display_name": "Python 3"
    },
    "language_info": {
      "name": "python"
    }
  },
  "cells": [
    {
      "cell_type": "markdown",
      "metadata": {
        "id": "view-in-github",
        "colab_type": "text"
      },
      "source": [
        "<a href=\"https://colab.research.google.com/github/Irina-Bichik/Probability_theory_and_mathematical_statistics/blob/master/%D0%9D%D0%B5%D0%BF%D0%B0%D1%80%D0%B0%D0%BC%D0%B5%D1%82%D1%80%D0%B8%D1%87%D0%B5%D1%81%D0%BA%D0%B8%D0%B5_%D1%82%D0%B5%D1%81%D1%82%D1%8B.ipynb\" target=\"_parent\"><img src=\"https://colab.research.google.com/assets/colab-badge.svg\" alt=\"Open In Colab\"/></a>"
      ]
    },
    {
      "cell_type": "code",
      "source": [
        "import numpy as np\n",
        "import scipy.stats as stats\n",
        "import matplotlib.pyplot as plt"
      ],
      "metadata": {
        "id": "QkqCQr5gTV_7"
      },
      "execution_count": 1,
      "outputs": []
    },
    {
      "cell_type": "markdown",
      "source": [
        "**Задание 1.**\n",
        "\n",
        "Выбрать тест и проверить, есть  ли различия между выборками:\n",
        "\n",
        "Даны две  независимые выборки. Не соблюдается условие нормальности\n",
        "\n",
        "x1  380,420, 290\n",
        "\n",
        "y1 140,360,200,900\n",
        "\n",
        "Сделайте вывод по результатам, полученным с помощью функции"
      ],
      "metadata": {
        "id": "IcKpN6NJS8_x"
      }
    },
    {
      "cell_type": "code",
      "source": [
        "a = 0.05\n",
        "\n",
        "x1= np.array([380, 420, 290])\n",
        "y1= np.array([140, 360, 200, 900])\n",
        "\n",
        "d = stats.mannwhitneyu(x1,y1)\n",
        "print('statistic = %.2f \\np-value = %.3f' % (d))\n",
        "\n",
        "s, p = stats.mannwhitneyu(x1,y1)\n",
        "\n",
        "if p > a:\n",
        "    print(f'{p: .3f} > {a} => Cтатистически значимых различий нет, принимается нулевая гипотеза')\n",
        "else:\n",
        "    print(f'{p: .3f} < {a} => Cтатистически значимые различия присутствуют, принимается альтернативная гипотеза')"
      ],
      "metadata": {
        "colab": {
          "base_uri": "https://localhost:8080/"
        },
        "id": "dWGJXL-hTclU",
        "outputId": "acf683f2-582a-4b10-aed6-b38a04cbbcee"
      },
      "execution_count": 21,
      "outputs": [
        {
          "output_type": "stream",
          "name": "stdout",
          "text": [
            "statistic = 8.00 \n",
            "p-value = 0.629\n",
            " 0.629 > 0.05 => Cтатистически значимых различий нет, принимается нулевая гипотеза\n"
          ]
        }
      ]
    },
    {
      "cell_type": "markdown",
      "source": [
        "**Задание 2.**\n",
        "\n",
        "Выбрать тест и проверить, есть  ли различия между выборками:\n",
        "\n",
        "Исследовалось влияние препарата на уровень давления пациентов. Сначала измерялось давление до приема препарата, потом через 10 минут и через 30 минут. Есть ли статистически значимые различия?\n",
        "\n",
        "1е измерение до приема препарата: 150, 160, 165, 145, 155\n",
        "\n",
        "2е измерение через 10 минут: 140, 155, 150,  130, 135\n",
        "\n",
        "3е измерение через 30 минут: 130, 130, 120, 130, 125"
      ],
      "metadata": {
        "id": "ezhNChCVVYMs"
      }
    },
    {
      "cell_type": "code",
      "source": [
        "a=0.05\n",
        "\n",
        "x1=np.array([150, 160, 165, 145, 155])\n",
        "x2=np.array([140, 155, 150, 130, 135])\n",
        "x3=np.array([130, 130, 120, 130, 125])\n",
        "\n",
        "d = stats.friedmanchisquare(x1, x2, x3)\n",
        "print('statistic = %.2f \\np-value = %.3f' % (d))\n",
        "\n",
        "s, p = stats.friedmanchisquare(x1, x2, x3)\n",
        "\n",
        "if p > a:\n",
        "    print(f' {p: .3f} > {a} => Cтатистически значимых различий нет, принимается нулевая гипотеза, препарат не влияет на давление.')\n",
        "else:\n",
        "    print(f' {p: .3f} < {a} => Cтатистически значимые различия присутствуют, принимается альтернативная гипотеза, препарат влияет на давление.')"
      ],
      "metadata": {
        "colab": {
          "base_uri": "https://localhost:8080/"
        },
        "id": "-RElNK4NWB58",
        "outputId": "3e81c3de-4527-4301-f462-ca8d5085da3b"
      },
      "execution_count": 22,
      "outputs": [
        {
          "output_type": "stream",
          "name": "stdout",
          "text": [
            "statistic = 9.58 \n",
            "p-value = 0.008\n",
            "  0.008 < 0.05 => Cтатистически значимые различия присутствуют, принимается альтернативная гипотеза, препарат влияет на давление.\n"
          ]
        }
      ]
    },
    {
      "cell_type": "markdown",
      "source": [
        "**Задание 3.**\n",
        "\n",
        "Сравните 1 и 2 е измерения, предполагая, что 3го измерения через 30 минут не было."
      ],
      "metadata": {
        "id": "e7zT5JmRXgoJ"
      }
    },
    {
      "cell_type": "code",
      "source": [
        "a=0.05\n",
        "\n",
        "x1=np.array([150, 160, 165, 145, 155])\n",
        "x2=np.array([140, 155, 150, 130, 135])\n",
        "\n",
        "d = stats.wilcoxon(x1, x2)\n",
        "print('statistic = %.2f \\np-value = %.3f' % (d))\n",
        "\n",
        "s, p = stats.wilcoxon(x1, x2)\n",
        "\n",
        "if p > a:\n",
        "    print(f' {p: .3f} > {a} => Cтатистически значимых различий нет, принимается нулевая гипотеза, препарат не влияет на давление.')\n",
        "else:\n",
        "    print(f' {p: .3f} < {a} => Cтатистически значимые различия присутствуют, принимается альтернативная гипотеза, препарат влияет на давление.')"
      ],
      "metadata": {
        "colab": {
          "base_uri": "https://localhost:8080/"
        },
        "id": "f58Aqe_GXmQs",
        "outputId": "665133e7-c6f2-41ff-f291-26b3fc4d39e0"
      },
      "execution_count": 23,
      "outputs": [
        {
          "output_type": "stream",
          "name": "stdout",
          "text": [
            "statistic = 0.00 \n",
            "p-value = 0.062\n",
            "  0.062 > 0.05 => Cтатистически значимых различий нет, принимается нулевая гипотеза, препарат не влияет на давление.\n"
          ]
        }
      ]
    },
    {
      "cell_type": "markdown",
      "source": [
        "**Задание 4.**\n",
        "\n",
        "Выбрать тест и проверить, есть ли различия между выборками:\n",
        "\n",
        "Даны 3 группы  учеников плавания.\n",
        "\n",
        "В 1 группе время на дистанцию 50 м составляют:\n",
        "56, 60, 62, 55, 71, 67, 59, 58, 64, 67\n",
        "\n",
        "Вторая группа : 57, 58, 69, 48, 72, 70, 68, 71, 50, 53\n",
        "\n",
        "Третья группа: 57, 67, 49, 48, 47, 55, 66, 51, 54"
      ],
      "metadata": {
        "id": "DRw8AmaRYLKC"
      }
    },
    {
      "cell_type": "code",
      "source": [
        "a=0.05\n",
        "\n",
        "group1=np.array([56, 60, 62, 55, 71, 67, 59, 58, 64, 67])\n",
        "group2=np.array([57, 58, 69, 48, 72, 70, 68, 71, 50, 53])\n",
        "group3=np.array([57, 67, 49, 48, 47, 55, 66, 51, 54])\n",
        "\n",
        "d = stats.kruskal(group1,group2,group3)\n",
        "print('statistic = %.2f \\np-value = %.3f' % (d))\n",
        "\n",
        "s, p = stats.kruskal(group1,group2,group3)\n",
        "\n",
        "if p > a:\n",
        "    print(f' {p: .3f} > {a} => Cтатистически значимых различий нет, принимается нулевая гипотеза, время на дистанцию одинаковое.')\n",
        "else:\n",
        "    print(f' {p: .3f} < {a} =>  Cтатистически значимые различия присутствуют, принимается альтернативная гипотеза, время на дистанцию не одинаковое.')"
      ],
      "metadata": {
        "colab": {
          "base_uri": "https://localhost:8080/"
        },
        "id": "0yLEbY3MYbcB",
        "outputId": "a9f4ebf6-b9d3-45a3-b763-bfea7358a0f0"
      },
      "execution_count": 24,
      "outputs": [
        {
          "output_type": "stream",
          "name": "stdout",
          "text": [
            "statistic = 5.47 \n",
            "p-value = 0.065\n",
            "  0.065 > 0.05 => Cтатистически значимых различий нет, принимается нулевая гипотеза, время на дистанцию одинаковое.\n"
          ]
        }
      ]
    },
    {
      "cell_type": "markdown",
      "source": [
        "**Задание 5.**\n",
        "\n",
        "Заявляется, что партия изготавливается со средним арифметическим 2,5 см. Проверить данную гипотезу, если известно, что размеры изделий подчинены нормальному закону распределения. Объем выборки 10, уровень статистической значимости 5%\n",
        "\n",
        "2.51, 2.35, 2.74, 2.56, 2.40, 2.36, 2.65, 2.7, 2.67, 2.34"
      ],
      "metadata": {
        "id": "U8vQ5thxZ0RU"
      }
    },
    {
      "cell_type": "markdown",
      "source": [
        "Н0 = 2,5 мм - средний размер изделий равен 2.5 см\n",
        "\n",
        "Н1 ≠ 2,5 мм - средний размер изделий не равен 2.5 см."
      ],
      "metadata": {
        "id": "empluMEcaMSE"
      }
    },
    {
      "cell_type": "code",
      "source": [
        "#среднее арифметическое размеров изделий в выборке\n",
        "size = [2.51, 2.35, 2.74, 2.56, 2.40, 2.36, 2.65, 2.7, 2.67, 2.34]\n",
        "n = len(size)\n",
        "MO = np.mean(size)\n",
        "MO"
      ],
      "metadata": {
        "colab": {
          "base_uri": "https://localhost:8080/"
        },
        "id": "vMz_AyrQaKjK",
        "outputId": "75228f1b-df9f-41cf-c003-ad73071e2d82"
      },
      "execution_count": 28,
      "outputs": [
        {
          "output_type": "execute_result",
          "data": {
            "text/plain": [
              "2.5279999999999996"
            ]
          },
          "metadata": {},
          "execution_count": 28
        }
      ]
    },
    {
      "cell_type": "code",
      "source": [
        "#стандартное отклонение\n",
        "std = np.std(size, ddof=1)\n",
        "std"
      ],
      "metadata": {
        "colab": {
          "base_uri": "https://localhost:8080/"
        },
        "id": "6ISoCzwFbRrS",
        "outputId": "1ca2f849-5771-46cb-8363-96f2e204d26e"
      },
      "execution_count": 29,
      "outputs": [
        {
          "output_type": "execute_result",
          "data": {
            "text/plain": [
              "0.1572542173961923"
            ]
          },
          "metadata": {},
          "execution_count": 29
        }
      ]
    },
    {
      "cell_type": "code",
      "source": [
        "#t-статистикa\n",
        "t_stat = (MO - 2.5) / (std / np.sqrt(n))\n",
        "t_stat"
      ],
      "metadata": {
        "colab": {
          "base_uri": "https://localhost:8080/"
        },
        "id": "yJqiWv7-fhgP",
        "outputId": "27bce105-955d-4f85-f663-01af1b3898f1"
      },
      "execution_count": 33,
      "outputs": [
        {
          "output_type": "execute_result",
          "data": {
            "text/plain": [
              "0.5630613661802959"
            ]
          },
          "metadata": {},
          "execution_count": 33
        }
      ]
    },
    {
      "cell_type": "code",
      "source": [
        "#критическая область выборки для уровня статистической значимости 5%\n",
        "a = 0.05\n",
        "t = stats.t.ppf(1 - a, n-1)\n",
        "t"
      ],
      "metadata": {
        "colab": {
          "base_uri": "https://localhost:8080/"
        },
        "id": "ONMBlFuxeX8X",
        "outputId": "799b9993-12ee-4769-a1b6-ed60aad72076"
      },
      "execution_count": 34,
      "outputs": [
        {
          "output_type": "execute_result",
          "data": {
            "text/plain": [
              "1.8331129326536335"
            ]
          },
          "metadata": {},
          "execution_count": 34
        }
      ]
    },
    {
      "cell_type": "code",
      "source": [
        "if t_stat < t:\n",
        "    print(f'{t_stat: .3f} < {t: .3f} => Нулевая гипотеза принимается, партия изготавливается со средним арифметическим 2,5 см')\n",
        "else:\n",
        "    print(f'{t_stat: .3f} > {t: .3f} => Нулевая гипотеза отвергается, партия изготавливается со средним арифметическим не равным 2,5 см')"
      ],
      "metadata": {
        "colab": {
          "base_uri": "https://localhost:8080/"
        },
        "id": "Pay3ztlpgmd6",
        "outputId": "000b265b-c771-41ed-af0b-a85a5611a510"
      },
      "execution_count": 37,
      "outputs": [
        {
          "output_type": "stream",
          "name": "stdout",
          "text": [
            " 0.563 <  1.833 => Нулевая гипотеза принимается, партия изготавливается со средним арифметическим 2,5 см\n"
          ]
        }
      ]
    }
  ]
}