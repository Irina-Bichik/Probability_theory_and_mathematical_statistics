{
  "nbformat": 4,
  "nbformat_minor": 0,
  "metadata": {
    "colab": {
      "provenance": [],
      "authorship_tag": "ABX9TyNmCDC+5miFWth+gzjCHC/B",
      "include_colab_link": true
    },
    "kernelspec": {
      "name": "python3",
      "display_name": "Python 3"
    },
    "language_info": {
      "name": "python"
    }
  },
  "cells": [
    {
      "cell_type": "markdown",
      "metadata": {
        "id": "view-in-github",
        "colab_type": "text"
      },
      "source": [
        "<a href=\"https://colab.research.google.com/github/Irina-Bichik/Irina-Bichik-Probability-theory-and-mathematical-statistics/blob/main/Homework1_%D0%A0%D0%B0%D1%81%D1%87%D0%B5%D1%82_%D0%B2%D0%B5%D1%80%D0%BE%D1%8F%D1%82%D0%BD%D0%BE%D1%81%D1%82%D0%B8_%D1%81%D0%BB%D1%83%D1%87%D0%B0%D0%B9%D0%BD%D1%8B%D1%85_%D1%81%D0%BE%D0%B1%D1%8B%D1%82%D0%B8%D0%B9.ipynb\" target=\"_parent\"><img src=\"https://colab.research.google.com/assets/colab-badge.svg\" alt=\"Open In Colab\"/></a>"
      ]
    },
    {
      "cell_type": "markdown",
      "source": [
        "**1. Из колоды в 52 карты извлекаются случайным образом 4 карты.**"
      ],
      "metadata": {
        "id": "PL_OlTbHh5zN"
      }
    },
    {
      "cell_type": "markdown",
      "source": [
        "**a) Найти вероятность того, что все карты – крести**"
      ],
      "metadata": {
        "id": "ZhMVkVsch_UA"
      }
    },
    {
      "cell_type": "markdown",
      "source": [
        "P (A) = m/n\n",
        "\n"
      ],
      "metadata": {
        "id": "jCikt7gHlpnX"
      }
    },
    {
      "cell_type": "markdown",
      "source": [
        "C (4/13) = 13!/4!(13-4)! = m\n"
      ],
      "metadata": {
        "id": "kCWPALkzm-dd"
      }
    },
    {
      "cell_type": "markdown",
      "source": [
        "C (4/52) = 52!/4!(52-4)! = n"
      ],
      "metadata": {
        "id": "NnJd6Ebxpnic"
      }
    },
    {
      "cell_type": "code",
      "source": [
        "from math import factorial\n",
        "def combinations(k, n):\n",
        "    return int(factorial(n) / (factorial(k) * factorial(n - k)))"
      ],
      "metadata": {
        "id": "UmwLExSRp0Eo"
      },
      "execution_count": 32,
      "outputs": []
    },
    {
      "cell_type": "code",
      "source": [
        "m=combinations(4, 13)\n",
        "print(f'm = {m}')"
      ],
      "metadata": {
        "colab": {
          "base_uri": "https://localhost:8080/"
        },
        "id": "EJ27Xh_aqD_0",
        "outputId": "189730ee-8cb6-4c32-8251-d43681ae3f9f"
      },
      "execution_count": 33,
      "outputs": [
        {
          "output_type": "stream",
          "name": "stdout",
          "text": [
            "m = 715\n"
          ]
        }
      ]
    },
    {
      "cell_type": "code",
      "source": [
        "n=combinations(4, 52)\n",
        "print(f'n = {n}')"
      ],
      "metadata": {
        "colab": {
          "base_uri": "https://localhost:8080/"
        },
        "id": "WCEbpHM3qaw7",
        "outputId": "15823b53-6787-4ad4-bef3-79000c7eb849"
      },
      "execution_count": 34,
      "outputs": [
        {
          "output_type": "stream",
          "name": "stdout",
          "text": [
            "n = 270725\n"
          ]
        }
      ]
    },
    {
      "cell_type": "code",
      "source": [
        "P=m/n\n",
        "print(f'P(4 крести) = {round(P*100,2)}%')"
      ],
      "metadata": {
        "colab": {
          "base_uri": "https://localhost:8080/"
        },
        "id": "E905hgUM_AIc",
        "outputId": "1f85fa9b-92eb-4532-d4aa-ddad32e8118e"
      },
      "execution_count": 39,
      "outputs": [
        {
          "output_type": "stream",
          "name": "stdout",
          "text": [
            "P(4 крести) = 0.26%\n"
          ]
        }
      ]
    },
    {
      "cell_type": "markdown",
      "source": [
        "**б) Найти вероятность, что среди 4-х карт окажется хотя бы один туз.**"
      ],
      "metadata": {
        "id": "jsCy-e1KiA7o"
      }
    },
    {
      "cell_type": "markdown",
      "source": [
        "P (A) = m/n"
      ],
      "metadata": {
        "id": "-bclKFxmzCuq"
      }
    },
    {
      "cell_type": "markdown",
      "source": [
        "C (4/52) = 52!/4!(52-4)! = n"
      ],
      "metadata": {
        "id": "QmJb3wdPy933"
      }
    },
    {
      "cell_type": "markdown",
      "source": [
        "С(1/4) * С(3/48) + С(2/4) * С(2/48)+ С(3/4) * С(1/48)+С(4/4) = m"
      ],
      "metadata": {
        "id": "Cgu2nyzaz98X"
      }
    },
    {
      "cell_type": "code",
      "source": [
        "m=sum([combinations(1,4)*combinations(3,48),combinations(2,4)*combinations(2,48),combinations(3,4)*combinations(1,48),1])\n",
        "print(f'm = {m}')"
      ],
      "metadata": {
        "colab": {
          "base_uri": "https://localhost:8080/"
        },
        "id": "vaiI2IZo1HlR",
        "outputId": "f37b0006-199d-4eeb-ff73-5fba06bb26c9"
      },
      "execution_count": 40,
      "outputs": [
        {
          "output_type": "stream",
          "name": "stdout",
          "text": [
            "m = 76145\n"
          ]
        }
      ]
    },
    {
      "cell_type": "code",
      "source": [
        "n=combinations(4, 52)\n",
        "print(f'n = {n}')"
      ],
      "metadata": {
        "colab": {
          "base_uri": "https://localhost:8080/"
        },
        "id": "6pyQGxGQ1qdX",
        "outputId": "43646d8c-d341-49d3-f9f4-82f3f51af4c3"
      },
      "execution_count": 41,
      "outputs": [
        {
          "output_type": "stream",
          "name": "stdout",
          "text": [
            "n = 270725\n"
          ]
        }
      ]
    },
    {
      "cell_type": "code",
      "source": [
        "P=m/n\n",
        "print(f'P(туз) = {round(P*100,2)}%')"
      ],
      "metadata": {
        "colab": {
          "base_uri": "https://localhost:8080/"
        },
        "id": "XzyoCQMh11wp",
        "outputId": "b541d93c-4b55-469a-c201-a2577e3b3442"
      },
      "execution_count": 42,
      "outputs": [
        {
          "output_type": "stream",
          "name": "stdout",
          "text": [
            "P(туз) = 28.13%\n"
          ]
        }
      ]
    },
    {
      "cell_type": "markdown",
      "source": [
        "**2. На входной двери подъезда установлен кодовый замок, содержащий десять кнопок с цифрами от 0 до 9. Код содержит три цифры, которые нужно нажать одновременно. Какова вероятность того, что человек, не знающий код, откроет дверь с первой попытки?**"
      ],
      "metadata": {
        "id": "79lE0YqE2G0D"
      }
    },
    {
      "cell_type": "markdown",
      "source": [
        "P (A) = m/n"
      ],
      "metadata": {
        "id": "kG0o7zJl3tMJ"
      }
    },
    {
      "cell_type": "markdown",
      "source": [
        "m = 1"
      ],
      "metadata": {
        "id": "4_Unfw134fMs"
      }
    },
    {
      "cell_type": "markdown",
      "source": [
        "С (3/10) = 10!/3!(10-3)! = n"
      ],
      "metadata": {
        "id": "JDGkA8Vr39_P"
      }
    },
    {
      "cell_type": "code",
      "source": [
        "P=1/combinations(3,10)\n",
        "print(f'P(1 попытка) = {round(P*100,2)}%')"
      ],
      "metadata": {
        "colab": {
          "base_uri": "https://localhost:8080/"
        },
        "id": "nB8LFSbl4qyo",
        "outputId": "b3176dd6-1b64-46a9-ba6f-ad77bd2adf53"
      },
      "execution_count": 44,
      "outputs": [
        {
          "output_type": "stream",
          "name": "stdout",
          "text": [
            "P(1 попытка) = 0.83%\n"
          ]
        }
      ]
    },
    {
      "cell_type": "markdown",
      "source": [
        "**3. В ящике имеется 15 деталей, из которых 9 окрашены. Рабочий случайным образом извлекает 3 детали. Какова вероятность того, что все извлеченные детали окрашены?**"
      ],
      "metadata": {
        "id": "NizzoH8k8pbs"
      }
    },
    {
      "cell_type": "markdown",
      "source": [
        "P (A) = m/n"
      ],
      "metadata": {
        "id": "Uamme9wS87qw"
      }
    },
    {
      "cell_type": "markdown",
      "source": [
        "C(3/9) = m"
      ],
      "metadata": {
        "id": "Kmt4Ez9s9a--"
      }
    },
    {
      "cell_type": "markdown",
      "source": [
        "С(3/15) = n"
      ],
      "metadata": {
        "id": "Fy_Dn_eG8_81"
      }
    },
    {
      "cell_type": "code",
      "source": [
        "P=combinations(3,9)/combinations(3,15)\n",
        "print(f'P(3 детали окрашены) = {round(P*100,2)}%')"
      ],
      "metadata": {
        "colab": {
          "base_uri": "https://localhost:8080/"
        },
        "id": "d-UElXlk94Se",
        "outputId": "eb33967b-d679-4a64-b12c-360413d12ade"
      },
      "execution_count": 45,
      "outputs": [
        {
          "output_type": "stream",
          "name": "stdout",
          "text": [
            "P(3 детали окрашены) = 18.46%\n"
          ]
        }
      ]
    },
    {
      "cell_type": "markdown",
      "source": [
        "**4. В лотерее 100 билетов. Из них 2 выигрышных. Какова вероятность того, что 2 приобретенных билета окажутся выигрышными?**"
      ],
      "metadata": {
        "id": "WrQFxcBY_mbb"
      }
    },
    {
      "cell_type": "markdown",
      "source": [
        "P (A) = m/n"
      ],
      "metadata": {
        "id": "UjuWA8F3_3mt"
      }
    },
    {
      "cell_type": "markdown",
      "source": [
        "m = 1"
      ],
      "metadata": {
        "id": "gLPpR6NN_6nD"
      }
    },
    {
      "cell_type": "markdown",
      "source": [
        "С(2/100) = n"
      ],
      "metadata": {
        "id": "5_8Ojyl-AAqj"
      }
    },
    {
      "cell_type": "code",
      "source": [
        "P=1/combinations(2,100)\n",
        "print(f'P(2 выигрышных билета)) = {round(P*100,2)}%')"
      ],
      "metadata": {
        "colab": {
          "base_uri": "https://localhost:8080/"
        },
        "id": "Brp33EHMAf6v",
        "outputId": "49c24a0d-d1d9-4499-f40e-80b819b51639"
      },
      "execution_count": 46,
      "outputs": [
        {
          "output_type": "stream",
          "name": "stdout",
          "text": [
            "P(2 выигрышных билета)) = 0.02%\n"
          ]
        }
      ]
    }
  ]
}