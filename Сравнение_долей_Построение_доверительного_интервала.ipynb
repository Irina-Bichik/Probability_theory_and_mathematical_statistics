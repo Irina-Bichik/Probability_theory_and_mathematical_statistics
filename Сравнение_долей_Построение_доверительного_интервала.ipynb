{
  "nbformat": 4,
  "nbformat_minor": 0,
  "metadata": {
    "colab": {
      "provenance": [],
      "authorship_tag": "ABX9TyNG/orVhY58T8VT8G4RFSGd",
      "include_colab_link": true
    },
    "kernelspec": {
      "name": "python3",
      "display_name": "Python 3"
    },
    "language_info": {
      "name": "python"
    }
  },
  "cells": [
    {
      "cell_type": "markdown",
      "metadata": {
        "id": "view-in-github",
        "colab_type": "text"
      },
      "source": [
        "<a href=\"https://colab.research.google.com/github/Irina-Bichik/Probability_theory_and_mathematical_statistics/blob/master/%D0%A1%D1%80%D0%B0%D0%B2%D0%BD%D0%B5%D0%BD%D0%B8%D0%B5_%D0%B4%D0%BE%D0%BB%D0%B5%D0%B9_%D0%9F%D0%BE%D1%81%D1%82%D1%80%D0%BE%D0%B5%D0%BD%D0%B8%D0%B5_%D0%B4%D0%BE%D0%B2%D0%B5%D1%80%D0%B8%D1%82%D0%B5%D0%BB%D1%8C%D0%BD%D0%BE%D0%B3%D0%BE_%D0%B8%D0%BD%D1%82%D0%B5%D1%80%D0%B2%D0%B0%D0%BB%D0%B0.ipynb\" target=\"_parent\"><img src=\"https://colab.research.google.com/assets/colab-badge.svg\" alt=\"Open In Colab\"/></a>"
      ]
    },
    {
      "cell_type": "code",
      "source": [
        "import numpy as np\n",
        "import math\n",
        "import scipy.stats as stats"
      ],
      "metadata": {
        "id": "O1mxQnmf6b4h"
      },
      "execution_count": 40,
      "outputs": []
    },
    {
      "cell_type": "markdown",
      "source": [
        "**Задание 1.**\n",
        "\n",
        "Известно, что генеральная совокупность распределена нормально со средним квадратическим отклонением, равным 16. Найти доверительный интервал для оценки математического ожидания a с надежностью 0.95, если выборочная средняя M = 80, а объем выборки n = 256."
      ],
      "metadata": {
        "id": "n4EQgdlV6DSS"
      }
    },
    {
      "cell_type": "markdown",
      "source": [
        "Для Z- критерия\n",
        "\n",
        "Х±Z_(α/2)*σ/√n    "
      ],
      "metadata": {
        "id": "RV2201RB6_UF"
      }
    },
    {
      "cell_type": "code",
      "source": [
        "X = 80 # выборочная средняя M\n",
        "n = 256 # объем выборки\n",
        "σ = 16 #среднее квадратическое отклонение\n",
        "Z = 1.96 #табличное значение z-критерия Z_(α/2) для α = 5%\n"
      ],
      "metadata": {
        "id": "ZRyPMFuy8DHr"
      },
      "execution_count": 6,
      "outputs": []
    },
    {
      "cell_type": "code",
      "source": [
        "a = X - Z * (σ/(n**0.5))\n",
        "b = X  + Z * (σ/(n**0.5))\n",
        "print(f'Доверительный интервал: [{a} ; {b}].')"
      ],
      "metadata": {
        "colab": {
          "base_uri": "https://localhost:8080/"
        },
        "id": "I-RQ37ds-_Co",
        "outputId": "5d53e063-d924-44ff-c086-8b155b8aec16"
      },
      "execution_count": 10,
      "outputs": [
        {
          "output_type": "stream",
          "name": "stdout",
          "text": [
            "Доверительный интервал: [78.04 ; 81.96].\n"
          ]
        }
      ]
    },
    {
      "cell_type": "markdown",
      "source": [
        "**Задание 2.**\n",
        "\n",
        "В результате 10 независимых измерений некоторой величины X, выполненных с одинаковой точностью, получены опытные данные:\n",
        "\n",
        "6.9, 6.1, 6.2, 6.8, 7.5, 6.3, 6.4, 6.9, 6.7, 6.1\n",
        "\n",
        "Предполагая, что результаты измерений подчинены нормальному закону распределения вероятностей, оценить истинное значение величины X при помощи доверительного интервала, покрывающего это значение с доверительной вероятностью 0,95."
      ],
      "metadata": {
        "id": "EkftmxF8AFnM"
      }
    },
    {
      "cell_type": "code",
      "source": [
        "X = [6.9, 6.1, 6.2, 6.8, 7.5, 6.3, 6.4, 6.9, 6.7, 6.1]\n",
        "n = len(X)\n",
        "MO = np.mean(X)\n",
        "σ = np.std(X, ddof=1)\n",
        "a = 0.05 # 1 - 0.095\n",
        "t_stat = stats.t.ppf( 1-a/2, n-1) # табличное значение t-критерия\n",
        "A = MO - t_stat*σ/np.sqrt(n)\n",
        "B = MO + t_stat*σ/np.sqrt(n)\n",
        "print(f'Доверительный интервал для истинного значения величины X: [{A:.3f} ; {B:.3f}]')"
      ],
      "metadata": {
        "colab": {
          "base_uri": "https://localhost:8080/"
        },
        "id": "9r61d7GdA-UC",
        "outputId": "8a06abcb-31b1-4195-906c-af8d8aa3c169"
      },
      "execution_count": 42,
      "outputs": [
        {
          "output_type": "stream",
          "name": "stdout",
          "text": [
            "Доверительный интервал для истинного значения величины X: [6.268 ; 6.912]\n"
          ]
        }
      ]
    },
    {
      "cell_type": "markdown",
      "source": [
        "**Задание 3.**\n",
        "\n",
        "Рост дочерей\n",
        "\n",
        "175, 167, 154, 174, 178, 148, 160, 167, 169, 170\n",
        "\n",
        "Рост матерей  \n",
        "\n",
        "178, 165, 165, 173, 168, 155, 160, 164, 178, 175\n",
        "\n",
        "Используя эти данные построить 95% доверительный интервал для разности среднего роста родителей и детей."
      ],
      "metadata": {
        "id": "ekcYUylGNHkb"
      }
    },
    {
      "cell_type": "markdown",
      "source": [
        "формула для нахождения доверительного интервала для разности средних арифметических µ_1-µ_2\n",
        "\n",
        "\n",
        "Δ± t_(α/2)* S_Δ , где Δ= (X_1 )- (X_2)"
      ],
      "metadata": {
        "id": "Fki5M35NNqT4"
      }
    },
    {
      "cell_type": "code",
      "source": [
        "mothers = np.array([178, 165, 165, 173, 168, 155, 160, 164, 178, 175])\n",
        "daughters = np.array([175, 167, 154, 174, 178, 148, 160, 167, 169, 170])\n",
        "\n",
        "delta = np.mean(mothers) - np.mean(daughters)\n",
        "delta"
      ],
      "metadata": {
        "colab": {
          "base_uri": "https://localhost:8080/"
        },
        "id": "oZF93MSJRpca",
        "outputId": "72e5dc74-2348-4107-b93f-0b74a5a76aae"
      },
      "execution_count": 45,
      "outputs": [
        {
          "output_type": "execute_result",
          "data": {
            "text/plain": [
              "1.9000000000000057"
            ]
          },
          "metadata": {},
          "execution_count": 45
        }
      ]
    },
    {
      "cell_type": "code",
      "source": [
        "D_mothers = np.var(mothers, ddof=1)\n",
        "D_daughters = np.var(daughters, ddof=1)\n",
        "D = (D_mothers+D_daughters)/2\n",
        "D"
      ],
      "metadata": {
        "colab": {
          "base_uri": "https://localhost:8080/"
        },
        "id": "qUq9qEg7RvCO",
        "outputId": "b5ae8d14-ccec-4224-87a6-773ff2fc50e2"
      },
      "execution_count": 46,
      "outputs": [
        {
          "output_type": "execute_result",
          "data": {
            "text/plain": [
              "75.58333333333334"
            ]
          },
          "metadata": {},
          "execution_count": 46
        }
      ]
    },
    {
      "cell_type": "code",
      "source": [
        "SE = np.sqrt(D/len(mothers) + D/len(daughters))\n",
        "SE"
      ],
      "metadata": {
        "colab": {
          "base_uri": "https://localhost:8080/"
        },
        "id": "BHC4JoNNSS_2",
        "outputId": "d5c6243d-6712-4ba3-b47f-3b0aed674bdd"
      },
      "execution_count": 47,
      "outputs": [
        {
          "output_type": "execute_result",
          "data": {
            "text/plain": [
              "3.8880157750022915"
            ]
          },
          "metadata": {},
          "execution_count": 47
        }
      ]
    },
    {
      "cell_type": "code",
      "source": [
        "p = 0.95 + 0.05/2\n",
        "df = 2*(n-1)\n",
        "t_stats= stats.t.ppf(p, df)\n",
        "t_stats"
      ],
      "metadata": {
        "colab": {
          "base_uri": "https://localhost:8080/"
        },
        "id": "7quWJC1nSYK6",
        "outputId": "e961eb46-d03d-4611-f344-cb1d5f186761"
      },
      "execution_count": 48,
      "outputs": [
        {
          "output_type": "execute_result",
          "data": {
            "text/plain": [
              "2.10092204024096"
            ]
          },
          "metadata": {},
          "execution_count": 48
        }
      ]
    },
    {
      "cell_type": "code",
      "source": [
        "left = delta - t_stats * SE\n",
        "right = delta + t_stats * SE\n",
        "\n",
        "print(f'95% доверительный интервал для разности среднего роста родителей и детей: [{left:.2f}, {right:.2f}]')"
      ],
      "metadata": {
        "colab": {
          "base_uri": "https://localhost:8080/"
        },
        "id": "l5J5xC5uSdne",
        "outputId": "4a71ecb4-ea28-48f4-ba54-2e8b9e9c4371"
      },
      "execution_count": 49,
      "outputs": [
        {
          "output_type": "stream",
          "name": "stdout",
          "text": [
            "95% доверительный интервал для разности среднего роста родителей и детей: [-6.27, 10.07]\n"
          ]
        }
      ]
    }
  ]
}