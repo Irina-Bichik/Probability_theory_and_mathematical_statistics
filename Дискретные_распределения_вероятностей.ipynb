{
  "nbformat": 4,
  "nbformat_minor": 0,
  "metadata": {
    "colab": {
      "provenance": [],
      "authorship_tag": "ABX9TyPlE4QPpokSeswrpHDDHiQh",
      "include_colab_link": true
    },
    "kernelspec": {
      "name": "python3",
      "display_name": "Python 3"
    },
    "language_info": {
      "name": "python"
    }
  },
  "cells": [
    {
      "cell_type": "markdown",
      "metadata": {
        "id": "view-in-github",
        "colab_type": "text"
      },
      "source": [
        "<a href=\"https://colab.research.google.com/github/Irina-Bichik/Probability_theory_and_mathematical_statistics/blob/master/%D0%94%D0%B8%D1%81%D0%BA%D1%80%D0%B5%D1%82%D0%BD%D1%8B%D0%B5_%D1%80%D0%B0%D1%81%D0%BF%D1%80%D0%B5%D0%B4%D0%B5%D0%BB%D0%B5%D0%BD%D0%B8%D1%8F_%D0%B2%D0%B5%D1%80%D0%BE%D1%8F%D1%82%D0%BD%D0%BE%D1%81%D1%82%D0%B5%D0%B9.ipynb\" target=\"_parent\"><img src=\"https://colab.research.google.com/assets/colab-badge.svg\" alt=\"Open In Colab\"/></a>"
      ]
    },
    {
      "cell_type": "markdown",
      "source": [
        "**1. Вероятность того, что стрелок попадет в мишень, выстрелив один раз, равна 0.8. Стрелок выстрелил 100 раз. Найдите вероятность того, что стрелок попадет в цель ровно 85 раз.**"
      ],
      "metadata": {
        "id": "-KiUGscPoKVK"
      }
    },
    {
      "cell_type": "code",
      "source": [
        "from os import system\n",
        "from math import factorial, exp"
      ],
      "metadata": {
        "id": "VjbJMowPoj6V"
      },
      "execution_count": 10,
      "outputs": []
    },
    {
      "cell_type": "code",
      "source": [
        "n = 100\n",
        "k = 85\n",
        "p = 0.8"
      ],
      "metadata": {
        "id": "I7TeyFz1qR-1"
      },
      "execution_count": 11,
      "outputs": []
    },
    {
      "cell_type": "code",
      "source": [
        "def probability(n, k, p):  # формула Бернулли\n",
        "    formula = factorial(n)/(factorial(k)*factorial(n-k))\n",
        "    return formula*(p**k)*(1-p)**(n-k)"
      ],
      "metadata": {
        "id": "lWvPZ3SFo1W0"
      },
      "execution_count": 12,
      "outputs": []
    },
    {
      "cell_type": "code",
      "source": [
        "print(\n",
        "    f'Вероятность того, что стрелок попадет в цель ровно 85 раз = {probability(n,k,p):.5f} -> {probability(n,k,p)*100:1.2f}%')"
      ],
      "metadata": {
        "colab": {
          "base_uri": "https://localhost:8080/"
        },
        "id": "dQ8HvGHkpNTQ",
        "outputId": "623515fd-d6d5-48d6-a8fa-f9b89de3ea2a"
      },
      "execution_count": 13,
      "outputs": [
        {
          "output_type": "stream",
          "name": "stdout",
          "text": [
            "Вероятность того, что стрелок попадет в цель ровно 85 раз = 0.04806 -> 4.81%\n"
          ]
        }
      ]
    },
    {
      "cell_type": "markdown",
      "source": [
        "**2. Вероятность того, что лампочка перегорит в течение первого дня эксплуатации, равна 0.0004. В жилом комплексе после ремонта в один день включили 5000 новых лампочек. Какова вероятность, что ни одна из них не перегорит в первый день? Какова вероятность, что перегорят ровно две?**"
      ],
      "metadata": {
        "id": "-5rVOBL0pHlS"
      }
    },
    {
      "cell_type": "code",
      "source": [
        "def probability(m, p, n):  # Распределение Пуассона\n",
        "    λ = p*n\n",
        "    return exp(-λ)*(λ**m)/factorial(m)"
      ],
      "metadata": {
        "id": "opSzbD8Pqx9Y"
      },
      "execution_count": 14,
      "outputs": []
    },
    {
      "cell_type": "code",
      "source": [
        "m1 = 0\n",
        "m2 = 2\n",
        "p = 0.0004\n",
        "n = 5000"
      ],
      "metadata": {
        "id": "cUFw2mKDq_74"
      },
      "execution_count": 15,
      "outputs": []
    },
    {
      "cell_type": "code",
      "source": [
        "print(\n",
        "    f'Вероятность, что ни одна из них не перегорит в первый день = {probability(m1,p,n):.5f} -> {probability(m1,p,n)*100:1.2f}% ')"
      ],
      "metadata": {
        "colab": {
          "base_uri": "https://localhost:8080/"
        },
        "id": "b67H9TdKrKbm",
        "outputId": "2f006f01-8987-41b1-d9b9-5b866bd154ba"
      },
      "execution_count": 16,
      "outputs": [
        {
          "output_type": "stream",
          "name": "stdout",
          "text": [
            "Вероятность, что ни одна из них не перегорит в первый день = 0.13534 -> 13.53% \n"
          ]
        }
      ]
    },
    {
      "cell_type": "code",
      "source": [
        "print(\n",
        "    f'\\nВероятность, что перегорят ровно две лампочки = {probability(m2,p,n):.5f} -> {probability(m2,p,n)*100:1.2f}%')"
      ],
      "metadata": {
        "colab": {
          "base_uri": "https://localhost:8080/"
        },
        "id": "4uRymj6wrScH",
        "outputId": "8612f836-d3f9-4a12-d383-169f6ef803af"
      },
      "execution_count": 17,
      "outputs": [
        {
          "output_type": "stream",
          "name": "stdout",
          "text": [
            "\n",
            "Вероятность, что перегорят ровно две лампочки = 0.27067 -> 27.07%\n"
          ]
        }
      ]
    },
    {
      "cell_type": "markdown",
      "source": [
        "**3. Монету подбросили 144 раза. Какова вероятность, что орел выпадет ровно 70 раз?**"
      ],
      "metadata": {
        "id": "K4RD-dOrrbtd"
      }
    },
    {
      "cell_type": "code",
      "source": [
        "def probability(n, k, p):  # формула Бернулли\n",
        "    formula = factorial(n)/(factorial(k)*factorial(n-k))\n",
        "    return formula*(p**k)*(1-p)**(n-k)"
      ],
      "metadata": {
        "id": "bSz3yb_crd2-"
      },
      "execution_count": 18,
      "outputs": []
    },
    {
      "cell_type": "code",
      "source": [
        "n = 144\n",
        "k = 70\n",
        "p = 0.5"
      ],
      "metadata": {
        "id": "wjqcpOyirmHc"
      },
      "execution_count": 19,
      "outputs": []
    },
    {
      "cell_type": "code",
      "source": [
        "print(\n",
        "    f'Вероятность того, что орел выпадет ровно 70 раз = {probability(n,k,p):.5f} -> {probability(n,k,p)*100:1.2f}%')"
      ],
      "metadata": {
        "colab": {
          "base_uri": "https://localhost:8080/"
        },
        "id": "uTRT36_grqIT",
        "outputId": "992f3469-d7dd-47cc-dd69-6e26757fb7e0"
      },
      "execution_count": 20,
      "outputs": [
        {
          "output_type": "stream",
          "name": "stdout",
          "text": [
            "Вероятность того, что орел выпадет ровно 70 раз = 0.06281 -> 6.28%\n"
          ]
        }
      ]
    },
    {
      "cell_type": "markdown",
      "source": [
        "**4. В первом ящике находится 10 мячей, из которых 7 - белые. Во втором ящике - 11 мячей, из которых 9 белых. Из каждого ящика вытаскивают случайным образом по два мяча. Какова вероятность того, что все мячи белые? Какова вероятность того, что ровно два мяча белые? Какова вероятность того, что хотя бы один мяч белый?**"
      ],
      "metadata": {
        "id": "k6-ITQH_ru9N"
      }
    },
    {
      "cell_type": "code",
      "source": [
        "def f_combination(n, k):\n",
        "    return (factorial(n) / (factorial(k) * factorial(n-k)))"
      ],
      "metadata": {
        "id": "7-BZFiXYrxP_"
      },
      "execution_count": 21,
      "outputs": []
    },
    {
      "cell_type": "code",
      "source": [
        "# Вероятность того, что все мячи белые\n",
        "probability = f_combination(7, 2)*f_combination(3, 0)/f_combination(10, 2) * \\\n",
        "    f_combination(9, 2)*f_combination(2, 0)/f_combination(11, 2)\n",
        "print(\n",
        "    f\">>> Вероятность, что все мячи белые = {probability:.5f} -> {probability*100:0.2f}%\")"
      ],
      "metadata": {
        "colab": {
          "base_uri": "https://localhost:8080/"
        },
        "id": "DS_oeEe0r7lj",
        "outputId": "a3eb5f22-948c-4dfd-f5b2-15d2faf5c39f"
      },
      "execution_count": 22,
      "outputs": [
        {
          "output_type": "stream",
          "name": "stdout",
          "text": [
            ">>> Вероятность, что все мячи белые = 0.30545 -> 30.55%\n"
          ]
        }
      ]
    },
    {
      "cell_type": "code",
      "source": [
        "# Вероятность того, что ровно два мяча белые\n",
        "probability = f_combination(7, 2)*f_combination(3, 0)/f_combination(10, 2) * f_combination(9, 0)*f_combination(2, 2)/f_combination(11, 2) \\\n",
        "    + f_combination(7, 1)*f_combination(3, 1)/f_combination(10, 2) * f_combination(9, 1)*f_combination(2, 1)/f_combination(11, 2) \\\n",
        "    + f_combination(7, 0)*f_combination(3, 2)/f_combination(10, 2) * \\\n",
        "    f_combination(9, 2)*f_combination(2, 0)/f_combination(11, 2)\n",
        "print(\n",
        "    f\">>> Вероятность того, что ровно два мяча белые = {probability:.5f} -> {probability*100:0.2f}%\")"
      ],
      "metadata": {
        "colab": {
          "base_uri": "https://localhost:8080/"
        },
        "id": "q6H2mnXxsACm",
        "outputId": "5bb1da38-6065-466a-c4b9-f92477515163"
      },
      "execution_count": 23,
      "outputs": [
        {
          "output_type": "stream",
          "name": "stdout",
          "text": [
            ">>> Вероятность того, что ровно два мяча белые = 0.20485 -> 20.48%\n"
          ]
        }
      ]
    },
    {
      "cell_type": "code",
      "source": [
        "# Вероятность того, что хотя бы один мяч белый\n",
        "probability = 1 - f_combination(7, 0)*f_combination(3, 2)/f_combination(\n",
        "    10, 2) * f_combination(9, 0)*f_combination(2, 2)/f_combination(11, 2)\n",
        "print(\n",
        "    f\">>> Вероятность того, что хотя бы один мяч белый {probability:.5f} -> {probability*100:0.2f}%\")"
      ],
      "metadata": {
        "colab": {
          "base_uri": "https://localhost:8080/"
        },
        "id": "snyyiv-vsF7O",
        "outputId": "eb9d8507-5399-4f0d-fff1-311472af0306"
      },
      "execution_count": 24,
      "outputs": [
        {
          "output_type": "stream",
          "name": "stdout",
          "text": [
            ">>> Вероятность того, что хотя бы один мяч белый 0.99879 -> 99.88%\n"
          ]
        }
      ]
    }
  ]
}