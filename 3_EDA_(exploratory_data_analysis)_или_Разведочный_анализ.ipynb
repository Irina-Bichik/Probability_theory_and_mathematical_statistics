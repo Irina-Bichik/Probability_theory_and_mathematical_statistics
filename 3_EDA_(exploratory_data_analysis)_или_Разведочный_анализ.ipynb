{
  "nbformat": 4,
  "nbformat_minor": 0,
  "metadata": {
    "colab": {
      "provenance": [],
      "authorship_tag": "ABX9TyMomJAYVDx/W8sZuosYNjlR",
      "include_colab_link": true
    },
    "kernelspec": {
      "name": "python3",
      "display_name": "Python 3"
    },
    "language_info": {
      "name": "python"
    }
  },
  "cells": [
    {
      "cell_type": "markdown",
      "metadata": {
        "id": "view-in-github",
        "colab_type": "text"
      },
      "source": [
        "<a href=\"https://colab.research.google.com/github/Irina-Bichik/Probability_theory_and_mathematical_statistics/blob/master/3_EDA_(exploratory_data_analysis)_%D0%B8%D0%BB%D0%B8_%D0%A0%D0%B0%D0%B7%D0%B2%D0%B5%D0%B4%D0%BE%D1%87%D0%BD%D1%8B%D0%B9_%D0%B0%D0%BD%D0%B0%D0%BB%D0%B8%D0%B7.ipynb\" target=\"_parent\"><img src=\"https://colab.research.google.com/assets/colab-badge.svg\" alt=\"Open In Colab\"/></a>"
      ]
    },
    {
      "cell_type": "code",
      "source": [
        "import math\n",
        "from math import factorial\n",
        "import numpy as np\n",
        "from os import system"
      ],
      "metadata": {
        "id": "PZSp7S1CcuRv"
      },
      "execution_count": 24,
      "outputs": []
    },
    {
      "cell_type": "markdown",
      "source": [
        "**Задание №1**\n",
        "\n",
        "Даны значения зарплат из выборки выпускников: 100, 80, 75, 77, 89, 33, 45, 25, 65, 17, 30, 24, 57, 55, 70, 75, 65, 84, 90, 150.\n",
        "Посчитать (желательно без использования статистических методов наподобие std, var, mean) среднее арифметическое, среднее квадратичное отклонение, смещенную и несмещенную оценки дисперсий для данной выборки."
      ],
      "metadata": {
        "id": "lZT4qn41cU8y"
      }
    },
    {
      "cell_type": "code",
      "source": [
        "wage = [100, 80, 75, 77, 89, 33, 45, 25, 65, 17, 30, 230, 24, 57, 55, 70, 75, 65, 84, 90, 150]"
      ],
      "metadata": {
        "id": "ALJcollZdBDd"
      },
      "execution_count": 11,
      "outputs": []
    },
    {
      "cell_type": "markdown",
      "source": [
        "**Посчитать среднее арифметическое**"
      ],
      "metadata": {
        "id": "VPstPb8Wfpwx"
      }
    },
    {
      "cell_type": "code",
      "source": [
        "# Arithmetic Average\n",
        "AA = sum (wage) /len(wage)\n",
        "print(f'Cреднее арифметическое = {AA: .2f}')"
      ],
      "metadata": {
        "colab": {
          "base_uri": "https://localhost:8080/"
        },
        "id": "c1vhQrUYeUb8",
        "outputId": "ccb69419-abe5-4b56-be05-5cce77cbc269"
      },
      "execution_count": 20,
      "outputs": [
        {
          "output_type": "stream",
          "name": "stdout",
          "text": [
            "Cреднее арифметическое =  73.14\n"
          ]
        }
      ]
    },
    {
      "cell_type": "markdown",
      "source": [
        "**Посчитать среднее квадратичное отклонение**"
      ],
      "metadata": {
        "id": "FDczeUaWfxGb"
      }
    },
    {
      "cell_type": "code",
      "source": [
        "# σ = √ ( ( ∑ ( xi - μ )² ) / N ) - Secondary quadratic deviation\n",
        "SQD = math.sqrt(sum((x - AA) ** 2 for x in wage) / len(wage))\n",
        "print(f'Cреднее квадратичное отклонение = {SQD: .3f}')"
      ],
      "metadata": {
        "colab": {
          "base_uri": "https://localhost:8080/"
        },
        "id": "ky6-qCIbgINo",
        "outputId": "6f9f26a2-96f6-4c31-a6a0-f634db882d79"
      },
      "execution_count": 21,
      "outputs": [
        {
          "output_type": "stream",
          "name": "stdout",
          "text": [
            "Cреднее квадратичное отклонение =  46.207\n"
          ]
        }
      ]
    },
    {
      "cell_type": "markdown",
      "source": [
        "**Посчитать смещенную оценку дисперсии**"
      ],
      "metadata": {
        "id": "145Vk7TuizoD"
      }
    },
    {
      "cell_type": "code",
      "source": [
        "# σ² = (∑ (xi - μ)²) / N - Biased variance estimate\n",
        "BVE = sum((x - AA) ** 2 for x in wage) / len(wage)\n",
        "print(f'Смещенная оценка дисперсии = {BVE: .3f}' )\n"
      ],
      "metadata": {
        "colab": {
          "base_uri": "https://localhost:8080/"
        },
        "id": "ex0hooqHi_KO",
        "outputId": "10c9cae8-308c-48ee-cb1e-eda409bc8491"
      },
      "execution_count": 22,
      "outputs": [
        {
          "output_type": "stream",
          "name": "stdout",
          "text": [
            "Смещенная оценка дисперсии =  2135.075\n"
          ]
        }
      ]
    },
    {
      "cell_type": "markdown",
      "source": [
        "**Посчитать несмещенную оценку дисперсии**"
      ],
      "metadata": {
        "id": "-BTqLZZZi5n1"
      }
    },
    {
      "cell_type": "code",
      "source": [
        "# σ² = ( ∑ ( xi - μ )² ) / (N-1) - Unbiased variance estimate\n",
        "UVE = sum((x - AA) ** 2 for x in wage) / (len(wage) - 1)\n",
        "print(f'Несмещенная оценка дисперсии = {UVE: .3f}')"
      ],
      "metadata": {
        "colab": {
          "base_uri": "https://localhost:8080/"
        },
        "id": "vpEZaiW9lncy",
        "outputId": "ba7f9e3b-017e-4e5a-e581-81a57c93d592"
      },
      "execution_count": 23,
      "outputs": [
        {
          "output_type": "stream",
          "name": "stdout",
          "text": [
            "Несмещенная оценка дисперсии =  2241.829\n"
          ]
        }
      ]
    },
    {
      "cell_type": "markdown",
      "source": [
        "**Задание №2**\n",
        "\n",
        "В первом ящике находится 8 мячей, из которых 5 - белые. Во втором ящике - 12 мячей, из которых 5 белых. Из первого ящика вытаскивают случайным образом два мяча, из второго - 4. Какова вероятность того, что 3 мяча белые?\n"
      ],
      "metadata": {
        "id": "99asbg4emDgY"
      }
    },
    {
      "cell_type": "code",
      "source": [
        "def combinations (k, n):\n",
        "    return (factorial(n) / (factorial(k) * factorial(n-k)))"
      ],
      "metadata": {
        "id": "OR6IdAwymPNJ"
      },
      "execution_count": 37,
      "outputs": []
    },
    {
      "cell_type": "code",
      "source": [
        "P = combinations (2, 5)*combinations(0, 3)/combinations(2, 8) * combinations(1, 5)*combinations(3, 7)/combinations(4, 12) \\\n",
        "    + combinations(1, 5)*combinations(1, 3)/combinations(2, 8) * combinations(2, 5)*combinations(2, 7)/combinations(4, 12) \\\n",
        "    + combinations(0, 5)*combinations(2, 3)/combinations(2, 8) * \\\n",
        "    combinations(3, 5)*combinations(1, 7)/combinations(4, 12)"
      ],
      "metadata": {
        "id": "YH-RggXsoKTi"
      },
      "execution_count": 42,
      "outputs": []
    },
    {
      "cell_type": "code",
      "source": [
        "print(\n",
        "    f\">>> Вероятность, что 3 мяча белые = {P*100:.2f}%\")"
      ],
      "metadata": {
        "colab": {
          "base_uri": "https://localhost:8080/"
        },
        "id": "8_GfSPTYqp39",
        "outputId": "fb40b6eb-49fc-4ae1-870a-ba6ab5d5079d"
      },
      "execution_count": 49,
      "outputs": [
        {
          "output_type": "stream",
          "name": "stdout",
          "text": [
            ">>> Вероятность, что 3 мяча белые = 36.87%\n"
          ]
        }
      ]
    },
    {
      "cell_type": "markdown",
      "source": [
        "**Задание №3**\n",
        "\n",
        "На соревновании по биатлону один из трех спортсменов стреляет и попадает в мишень. Вероятность попадания для первого спортсмена равна 0.9, для второго — 0.8, для третьего — 0.6. Найти вероятность того, что выстрел произведен: a). первым спортсменом б). вторым спортсменом в). третьим спортсменом."
      ],
      "metadata": {
        "id": "nO5Wj3cLqxl-"
      }
    },
    {
      "cell_type": "code",
      "source": [
        "p1 = 0.9\n",
        "p2 = 0.8\n",
        "p3 = 0.6\n",
        "\n",
        "PB = 1/3\n",
        "PA = PB*p1+PB*p2+PB*p3 #полная вероятность"
      ],
      "metadata": {
        "id": "N7R2krPWr2fS"
      },
      "execution_count": 52,
      "outputs": []
    },
    {
      "cell_type": "code",
      "source": [
        "#формула Байеса\n",
        "P1 = PB*p1/PA\n",
        "P2 = PB*p2/PA\n",
        "P3 = PB*p3/PA"
      ],
      "metadata": {
        "id": "rXc07uZTr9s4"
      },
      "execution_count": 60,
      "outputs": []
    },
    {
      "cell_type": "code",
      "source": [
        "print(f'Вероятность того, что выстрел произведен первым спортсменом: {P1*100:.2f}%')"
      ],
      "metadata": {
        "colab": {
          "base_uri": "https://localhost:8080/"
        },
        "id": "L0ZN53-xr_gw",
        "outputId": "c0eadf8b-2baa-475c-fe78-b5ebc734ad57"
      },
      "execution_count": 61,
      "outputs": [
        {
          "output_type": "stream",
          "name": "stdout",
          "text": [
            "Вероятность того, что выстрел произведен первым спортсменом: 39.13%\n"
          ]
        }
      ]
    },
    {
      "cell_type": "code",
      "source": [
        "print(f'Вероятность того, что выстрел произведен вторым спортсменом: {P2*100:.2f}%')"
      ],
      "metadata": {
        "colab": {
          "base_uri": "https://localhost:8080/"
        },
        "id": "BYBlknbXwEDn",
        "outputId": "3e5e73e4-d084-4ca4-f1d2-d48d163e3f50"
      },
      "execution_count": 62,
      "outputs": [
        {
          "output_type": "stream",
          "name": "stdout",
          "text": [
            "Вероятность того, что выстрел произведен вторым спортсменом: 34.78%\n"
          ]
        }
      ]
    },
    {
      "cell_type": "code",
      "source": [
        "print(f'Вероятность того, что выстрел произведен третьим спортсменом: {P3*100:.2f}%')"
      ],
      "metadata": {
        "colab": {
          "base_uri": "https://localhost:8080/"
        },
        "id": "cHKdrx8YwMyu",
        "outputId": "11b5b668-6dee-4207-cf7e-3ee58a36cbbe"
      },
      "execution_count": 63,
      "outputs": [
        {
          "output_type": "stream",
          "name": "stdout",
          "text": [
            "Вероятность того, что выстрел произведен третьим спортсменом: 26.09%\n"
          ]
        }
      ]
    },
    {
      "cell_type": "markdown",
      "source": [
        "**Задание №4**\n",
        "\n",
        "В университет на факультеты A и B поступило равное количество студентов, а на факультет C студентов поступило столько же, сколько на A и B вместе. Вероятность того, что студент факультета A сдаст первую сессию, равна 0.8. Для студента факультета B эта вероятность равна 0.7, а для студента факультета C - 0.9. Студент сдал первую сессию. Какова вероятность, что он учится: a). на факультете A б). на факультете B в). на факультете C?"
      ],
      "metadata": {
        "id": "K6gXR0FMw4Y-"
      }
    },
    {
      "cell_type": "code",
      "source": [
        "# Найдем кол-во студентов на каждом факультете (%)\n",
        "# 100 = X(=A) + X(=B) + 2X (=A+B)\n",
        "A_fac = 100/4\n",
        "B_fac = 100/4\n",
        "C_fac = A_fac + B_fac\n",
        "\n",
        "A_student = 0.8\n",
        "B_student = 0.7\n",
        "C_student = 0.9\n",
        "\n",
        "PA = A_fac*A_student+B_fac*B_student+C_fac*C_student #полная вероятность"
      ],
      "metadata": {
        "id": "f3furMVyxCEv"
      },
      "execution_count": 64,
      "outputs": []
    },
    {
      "cell_type": "code",
      "source": [
        "#формула Байеса\n",
        "A_stud_pass = A_fac*A_student/PA\n",
        "B_stud_pass = B_fac*B_student/PA\n",
        "C_stud_pass = C_fac*C_student/PA"
      ],
      "metadata": {
        "id": "uXp7DvkXzUMb"
      },
      "execution_count": 65,
      "outputs": []
    },
    {
      "cell_type": "code",
      "source": [
        "print(f'Вероятность того, что студент учится на факультете А: {A_stud_pass*100:.2f}%')"
      ],
      "metadata": {
        "colab": {
          "base_uri": "https://localhost:8080/"
        },
        "id": "FQTrHpmc0KPK",
        "outputId": "024fe12e-4bd3-4ca4-af29-ce26747b95f1"
      },
      "execution_count": 66,
      "outputs": [
        {
          "output_type": "stream",
          "name": "stdout",
          "text": [
            "Вероятность того, что студент учится на факультете А: 24.24%\n"
          ]
        }
      ]
    },
    {
      "cell_type": "code",
      "source": [
        "print(f'Вероятность того, что студент учится на факультете B: {B_stud_pass*100:.2f}%')"
      ],
      "metadata": {
        "colab": {
          "base_uri": "https://localhost:8080/"
        },
        "id": "asLi38fZ0NIz",
        "outputId": "fd7350a1-0c1c-4feb-e96f-0fa986641dcf"
      },
      "execution_count": 67,
      "outputs": [
        {
          "output_type": "stream",
          "name": "stdout",
          "text": [
            "Вероятность того, что студент учится на факультете B: 21.21%\n"
          ]
        }
      ]
    },
    {
      "cell_type": "code",
      "source": [
        "print(f'Вероятность того, что студент учится на факультете C: {C_stud_pass*100:.2f}%')"
      ],
      "metadata": {
        "colab": {
          "base_uri": "https://localhost:8080/"
        },
        "id": "I1WOO9MP0NmH",
        "outputId": "9aa7e954-bfb1-4c3d-930b-e4c40b15e81b"
      },
      "execution_count": 68,
      "outputs": [
        {
          "output_type": "stream",
          "name": "stdout",
          "text": [
            "Вероятность того, что студент учится на факультете C: 54.55%\n"
          ]
        }
      ]
    },
    {
      "cell_type": "markdown",
      "source": [
        "**Задание №5**\n",
        "\n",
        "Устройство состоит из трех деталей. Для первой детали вероятность выйти из строя в первый месяц равна 0.1, для второй - 0.2, для третьей - 0.25. Какова вероятность того, что в первый месяц выйдут из строя: а). все детали б). только две детали в). хотя бы одна деталь г). от одной до двух деталей?"
      ],
      "metadata": {
        "id": "CYmP0lg_05lX"
      }
    },
    {
      "cell_type": "code",
      "source": [
        "p1 = 0.1\n",
        "p2 = 0.2\n",
        "p3 = 0.25"
      ],
      "metadata": {
        "id": "1z0BmjZe0-ZH"
      },
      "execution_count": 70,
      "outputs": []
    },
    {
      "cell_type": "markdown",
      "source": [
        "Какова вероятность того, что в первый месяц выйдут из строя:\n",
        "\n",
        "**а). все детали**"
      ],
      "metadata": {
        "id": "OrdDEED61R8J"
      }
    },
    {
      "cell_type": "code",
      "source": [
        "PA = p1*p2*p3\n",
        "print(f'Вероятность того, что из строя выйдут все детали = {PA*100:.2f}%')"
      ],
      "metadata": {
        "colab": {
          "base_uri": "https://localhost:8080/"
        },
        "id": "8SsvwDU61JbP",
        "outputId": "37c20cd4-6a10-4a18-8c94-1eae1937b1b8"
      },
      "execution_count": 71,
      "outputs": [
        {
          "output_type": "stream",
          "name": "stdout",
          "text": [
            "Вероятность того, что из строя выйдут все детали = 0.50%\n"
          ]
        }
      ]
    },
    {
      "cell_type": "markdown",
      "source": [
        "**б). только две детали**"
      ],
      "metadata": {
        "id": "GJHbU4FS1nMj"
      }
    },
    {
      "cell_type": "code",
      "source": [
        "PA = p1*p2*(1-p3)+p1*p3*(1-p2)+p2*p3*(1-p1)\n",
        "print(f'Вероятность того, что из строя выйдут только 2 детали = {PA*100:.2f}%')"
      ],
      "metadata": {
        "colab": {
          "base_uri": "https://localhost:8080/"
        },
        "id": "N8PVezL81Qun",
        "outputId": "ed0c9a8a-5dc7-4592-fe58-1bbf2a7a57a7"
      },
      "execution_count": 72,
      "outputs": [
        {
          "output_type": "stream",
          "name": "stdout",
          "text": [
            "Вероятность того, что из строя выйдут только 2 детали = 8.00%\n"
          ]
        }
      ]
    },
    {
      "cell_type": "markdown",
      "source": [
        "**в). хотя бы одна деталь**"
      ],
      "metadata": {
        "id": "E8cAOfaV18yb"
      }
    },
    {
      "cell_type": "code",
      "source": [
        "PA = 1-(1-p1)*(1-p2)*(1-p3)\n",
        "print(f'Вероятность того, что из строя выйдет хотя бы одна деталь = {PA*100:.2f}%')"
      ],
      "metadata": {
        "colab": {
          "base_uri": "https://localhost:8080/"
        },
        "id": "xEAvH6ff1t0y",
        "outputId": "5297e893-a878-4e40-9f33-d21d663299ed"
      },
      "execution_count": 73,
      "outputs": [
        {
          "output_type": "stream",
          "name": "stdout",
          "text": [
            "Вероятность того, что из строя выйдет хотя бы одна деталь = 46.00%\n"
          ]
        }
      ]
    },
    {
      "cell_type": "markdown",
      "source": [
        "**г). от одной до двух деталей**"
      ],
      "metadata": {
        "id": "tD85j96X2Mdj"
      }
    },
    {
      "cell_type": "code",
      "source": [
        "PA = p1*(1-p2)*(1-p3)+p2*(1-p1)*(1-p3)+p3*(1-p1)*(1-p2) + p1*p2*(1-p3)+p1*p3*(1-p2)+p2*p3*(1-p1)\n",
        "print(f'Вероятность того, что выйдут из строя от одной до двух деталей = {PA*100:.2f}%')"
      ],
      "metadata": {
        "colab": {
          "base_uri": "https://localhost:8080/"
        },
        "id": "P8yOjqe71_dR",
        "outputId": "889c3afc-fe07-4ddb-b96d-0aad745996a2"
      },
      "execution_count": 78,
      "outputs": [
        {
          "output_type": "stream",
          "name": "stdout",
          "text": [
            "Вероятность того, что выйдут из строя от одной до двух деталей = 45.50%\n"
          ]
        }
      ]
    }
  ]
}