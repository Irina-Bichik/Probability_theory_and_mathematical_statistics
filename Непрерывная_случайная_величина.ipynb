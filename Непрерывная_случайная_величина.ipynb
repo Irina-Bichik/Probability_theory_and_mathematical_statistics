{
  "nbformat": 4,
  "nbformat_minor": 0,
  "metadata": {
    "colab": {
      "provenance": [],
      "authorship_tag": "ABX9TyOsyBFmwhxu/QaTEDhMAWpE",
      "include_colab_link": true
    },
    "kernelspec": {
      "name": "python3",
      "display_name": "Python 3"
    },
    "language_info": {
      "name": "python"
    }
  },
  "cells": [
    {
      "cell_type": "markdown",
      "metadata": {
        "id": "view-in-github",
        "colab_type": "text"
      },
      "source": [
        "<a href=\"https://colab.research.google.com/github/Irina-Bichik/Probability_theory_and_mathematical_statistics/blob/master/%D0%9D%D0%B5%D0%BF%D1%80%D0%B5%D1%80%D1%8B%D0%B2%D0%BD%D0%B0%D1%8F_%D1%81%D0%BB%D1%83%D1%87%D0%B0%D0%B9%D0%BD%D0%B0%D1%8F_%D0%B2%D0%B5%D0%BB%D0%B8%D1%87%D0%B8%D0%BD%D0%B0.ipynb\" target=\"_parent\"><img src=\"https://colab.research.google.com/assets/colab-badge.svg\" alt=\"Open In Colab\"/></a>"
      ]
    },
    {
      "cell_type": "code",
      "source": [
        "from os import system\n",
        "from scipy.stats import norm"
      ],
      "metadata": {
        "id": "PS8ZWmxHsY5K"
      },
      "execution_count": 60,
      "outputs": []
    },
    {
      "cell_type": "markdown",
      "source": [
        "**Задание 1.**\n",
        "\n",
        "Случайная непрерывная величина A имеет равномерное распределение на промежутке (200, 800]. Найдите ее среднее значение и дисперсию."
      ],
      "metadata": {
        "id": "SniJa9i9rhxM"
      }
    },
    {
      "cell_type": "code",
      "execution_count": 19,
      "metadata": {
        "id": "JVa4JWcKrcIF"
      },
      "outputs": [],
      "source": [
        "a = 200\n",
        "b = 800\n",
        "M = (a+b)/2\n",
        "D = ((b-a)**2)/12"
      ]
    },
    {
      "cell_type": "code",
      "source": [
        "print (f'\\nСреднее значение: М(А) = {M:.0f}\\nДисперсия: D = {D: .0f}')"
      ],
      "metadata": {
        "colab": {
          "base_uri": "https://localhost:8080/"
        },
        "id": "W-vbDlkhruvn",
        "outputId": "1601978a-1948-41da-ed98-1bd795be27a1"
      },
      "execution_count": 24,
      "outputs": [
        {
          "output_type": "stream",
          "name": "stdout",
          "text": [
            "\n",
            "Среднее значение: М(А) = 500\n",
            "Дисперсия: D =  30000\n"
          ]
        }
      ]
    },
    {
      "cell_type": "markdown",
      "source": [
        "**Задание 2.**\n",
        "\n",
        "О случайной непрерывной равномерно распределенной величине B известно, что ее дисперсия равна 0.2. Можно ли найти правую границу величины B и ее среднее значение зная, что левая граница равна 0.5? Если да, найдите ее."
      ],
      "metadata": {
        "id": "QDoKTnNKvToD"
      }
    },
    {
      "cell_type": "code",
      "source": [
        "D = 0.2\n",
        "a = 0.5\n",
        "\n",
        "b = (D*12)**(0.5) + a #правая граница\n",
        "M = (a+b)/2"
      ],
      "metadata": {
        "id": "0ruNmrKXveAE"
      },
      "execution_count": 25,
      "outputs": []
    },
    {
      "cell_type": "code",
      "source": [
        "print(f'Правая граница b = {b: .3f}\\n'\n",
        "      f'Среднее значение M(B) = {M: .3f}')"
      ],
      "metadata": {
        "colab": {
          "base_uri": "https://localhost:8080/"
        },
        "id": "2AbCayUJyVqT",
        "outputId": "9149be01-4321-48bd-9691-f17ddeefb111"
      },
      "execution_count": 29,
      "outputs": [
        {
          "output_type": "stream",
          "name": "stdout",
          "text": [
            "Правая граница b =  2.049\n",
            "Среднее значение M(B) =  1.275\n"
          ]
        }
      ]
    },
    {
      "cell_type": "markdown",
      "source": [
        "**Задание 3.**\n",
        "\n",
        "Непрерывная случайная величина X распределена нормально и задана плотностью распределения f(x) = (1 / (4 * sqrt(2pi))) * exp((-(x+2)**2) / 32)\n",
        "\n",
        "Найдите:\n",
        "\n",
        "а). M(X)\n",
        "\n",
        "б). D(X)\n",
        "\n",
        "в). std(X) (среднее квадратичное отклонение)"
      ],
      "metadata": {
        "id": "epCpgv2my4jf"
      }
    },
    {
      "cell_type": "markdown",
      "source": [
        "![image.png](data:image/png;base64,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)"
      ],
      "metadata": {
        "id": "ICy5YgIW0OCa"
      }
    },
    {
      "cell_type": "code",
      "source": [
        "M = -2 # среднее значение M(x) = a\n",
        "print (f'M(x) = {M: .0f}')"
      ],
      "metadata": {
        "colab": {
          "base_uri": "https://localhost:8080/"
        },
        "id": "yCKQcs6lzmkJ",
        "outputId": "e4276a9d-2c1b-4d0f-cad7-b9eeb8543de9"
      },
      "execution_count": 54,
      "outputs": [
        {
          "output_type": "stream",
          "name": "stdout",
          "text": [
            "M(x) = -2\n"
          ]
        }
      ]
    },
    {
      "cell_type": "code",
      "source": [
        "D = 32/2 # σ^2- дисперсия\n",
        "print (f'D(x) = {D: .0f}')"
      ],
      "metadata": {
        "colab": {
          "base_uri": "https://localhost:8080/"
        },
        "id": "hT02ryLS5H2l",
        "outputId": "77e9ddf2-2416-4074-ae32-db032580ae8e"
      },
      "execution_count": 55,
      "outputs": [
        {
          "output_type": "stream",
          "name": "stdout",
          "text": [
            "D(x) =  16\n"
          ]
        }
      ]
    },
    {
      "cell_type": "code",
      "source": [
        "std = 16**0.5 # среднее квадратичное отклонение - квадратный корень из дисперсии σ\n",
        "print (f'std(x) = {std: .0f}')"
      ],
      "metadata": {
        "colab": {
          "base_uri": "https://localhost:8080/"
        },
        "id": "Ltn1qsLo5Cc0",
        "outputId": "c2a5b4c8-b4c4-473f-8927-d72273a17f98"
      },
      "execution_count": 58,
      "outputs": [
        {
          "output_type": "stream",
          "name": "stdout",
          "text": [
            "std(x) =  4\n"
          ]
        }
      ]
    },
    {
      "cell_type": "markdown",
      "source": [
        "**Задание 4**\n",
        "\n",
        "Рост взрослого населения города X имеет нормальное распределение.\n",
        "Причем, средний рост равен 174 см, а среднее квадратичное отклонение равно 8 см.\n",
        "\n",
        "Какова вероятность того, что случайным образом выбранный взрослый человек имеет рост:\n",
        "\n",
        "а). больше 182 см\n",
        "\n",
        "б). больше 190 см\n",
        "\n",
        "в). от 166 см до 190 см\n",
        "\n",
        "г). от 166 см до 182 см\n",
        "\n",
        "д). от 158 см до 190 см\n",
        "\n",
        "е). не выше 150 см или не ниже 190 см\n",
        "\n",
        "ё). не выше 150 см или не ниже 198 см\n",
        "\n",
        "ж). ниже 166 см."
      ],
      "metadata": {
        "id": "J2hg0bHX5on7"
      }
    },
    {
      "cell_type": "code",
      "source": [
        "mu = 174\n",
        "sigma = 8\n",
        "\n"
      ],
      "metadata": {
        "id": "Yj3wzhfD54qa"
      },
      "execution_count": 62,
      "outputs": []
    },
    {
      "cell_type": "code",
      "source": [
        "a = 182\n",
        "pa = 1-norm.cdf(a, mu, sigma)\n",
        "print(f'Вероятность того, что рост больше {a} см = {pa*100: .2f} %')"
      ],
      "metadata": {
        "colab": {
          "base_uri": "https://localhost:8080/"
        },
        "id": "RyZKl8yS6J8N",
        "outputId": "9165307a-f32b-44c4-93cd-5fccefd63d79"
      },
      "execution_count": 65,
      "outputs": [
        {
          "output_type": "stream",
          "name": "stdout",
          "text": [
            "Вероятность того, что рост больше 182 см =  15.87 %\n"
          ]
        }
      ]
    },
    {
      "cell_type": "code",
      "source": [
        "b = 190\n",
        "pb = 1-norm.cdf(b, mu, sigma)\n",
        "print(f'Вероятность того, что рост больше {b} см = {pb*100: .2f} %')"
      ],
      "metadata": {
        "colab": {
          "base_uri": "https://localhost:8080/"
        },
        "id": "qdjsvDA86K6v",
        "outputId": "ed8f2d80-9eb8-4529-be45-5cc90452737a"
      },
      "execution_count": 71,
      "outputs": [
        {
          "output_type": "stream",
          "name": "stdout",
          "text": [
            "Вероятность того, что рост больше 190 см =  2.28 %\n"
          ]
        }
      ]
    },
    {
      "cell_type": "code",
      "source": [
        "с1 = 166\n",
        "с2 = 190\n",
        "pс = norm.cdf(с2, mu, sigma)-norm.cdf(с1, mu, sigma)\n",
        "print(f'Вероятность того, что рост от {с1} см до {с2} см = {pс*100: .2f} %')"
      ],
      "metadata": {
        "colab": {
          "base_uri": "https://localhost:8080/"
        },
        "id": "nZr97UKO6Lpp",
        "outputId": "0b5c3f1d-aabe-451e-bcf4-d8eefafc155d"
      },
      "execution_count": 68,
      "outputs": [
        {
          "output_type": "stream",
          "name": "stdout",
          "text": [
            "Вероятность того, что рост от 166 см до 190 см =  81.86 %\n"
          ]
        }
      ]
    },
    {
      "cell_type": "code",
      "source": [
        "d1 = 166\n",
        "d2 = 182\n",
        "pd = norm.cdf(d2, mu, sigma)-norm.cdf(d1, mu, sigma)\n",
        "print(f'Вероятность того, что рост от {d1} см до {d2} см = {pd*100: .2f} %')"
      ],
      "metadata": {
        "colab": {
          "base_uri": "https://localhost:8080/"
        },
        "id": "AjwCurpK7oYq",
        "outputId": "3cf82117-7b90-4e41-e18f-ae718267dfb8"
      },
      "execution_count": 69,
      "outputs": [
        {
          "output_type": "stream",
          "name": "stdout",
          "text": [
            "Вероятность того, что рост от 166 см до 182 см =  68.27 %\n"
          ]
        }
      ]
    },
    {
      "cell_type": "code",
      "source": [
        "e1 = 158\n",
        "e2 = 190\n",
        "pe = norm.cdf(e2, mu, sigma)-norm.cdf(e1, mu, sigma)\n",
        "print(f'Вероятность того, что рост от {e1} см до {e2} см = {pe: .2f} %')"
      ],
      "metadata": {
        "colab": {
          "base_uri": "https://localhost:8080/"
        },
        "id": "GZPWdFEr79mP",
        "outputId": "c3f1a4e8-5630-4389-8bab-af1af5ede122"
      },
      "execution_count": 72,
      "outputs": [
        {
          "output_type": "stream",
          "name": "stdout",
          "text": [
            "Вероятность того, что рост от 158 см до 190 см =  0.95 %\n"
          ]
        }
      ]
    },
    {
      "cell_type": "code",
      "source": [
        "f1 = 150\n",
        "f2 = 190\n",
        "pf = norm.cdf(f1, mu, sigma)+1-norm.cdf(f2, mu, sigma)\n",
        "print(f'Вероятность того, что рост не выше {f1} см или не ниже {f2} см = {pf*100: .2f} %')"
      ],
      "metadata": {
        "colab": {
          "base_uri": "https://localhost:8080/"
        },
        "id": "Ma29eB7S8PnT",
        "outputId": "ae995066-3607-4d98-dc65-0a4115877c69"
      },
      "execution_count": 73,
      "outputs": [
        {
          "output_type": "stream",
          "name": "stdout",
          "text": [
            "Вероятность того, что рост не выше 150 см или не ниже 190 см =  2.41 %\n"
          ]
        }
      ]
    },
    {
      "cell_type": "code",
      "source": [
        "g1 = 150\n",
        "g2 = 198\n",
        "pg = norm.cdf(g1, mu, sigma)+1-norm.cdf(g2, mu, sigma)\n",
        "print(f'Вероятность того, что рост не выше {g1} см или не ниже {g2} см = {pg*100: .2f} %')"
      ],
      "metadata": {
        "colab": {
          "base_uri": "https://localhost:8080/"
        },
        "id": "Ns9ksQnk8zLJ",
        "outputId": "e00b9fad-912b-40a3-86a5-660c77de0843"
      },
      "execution_count": 77,
      "outputs": [
        {
          "output_type": "stream",
          "name": "stdout",
          "text": [
            "Вероятность того, что рост не выше 150 см или не ниже 198 см =  0.27 %\n"
          ]
        }
      ]
    },
    {
      "cell_type": "code",
      "source": [
        "h = 166\n",
        "ph = norm.cdf(h, mu, sigma)\n",
        "print(f'Вероятность того, что рост ниже {h} см = {ph*100: .2f} %')"
      ],
      "metadata": {
        "colab": {
          "base_uri": "https://localhost:8080/"
        },
        "id": "WecO_Qbe9PAt",
        "outputId": "643aa6ca-c475-4b1e-d603-a4c08608877f"
      },
      "execution_count": 79,
      "outputs": [
        {
          "output_type": "stream",
          "name": "stdout",
          "text": [
            "Вероятность того, что рост ниже 166 см =  15.87 %\n"
          ]
        }
      ]
    },
    {
      "cell_type": "markdown",
      "source": [
        "**Задание 5**\n",
        "\n",
        "На сколько сигм (средних квадратичных отклонений) отклоняется рост человека, равный 190 см, от математического ожидания роста в популяции, в которой M(X) = 178 см и D(X) = 25 кв.см?"
      ],
      "metadata": {
        "id": "lXytk_67-LpS"
      }
    },
    {
      "cell_type": "code",
      "source": [
        "h = 190\n",
        "M = 178\n",
        "D = 25\n",
        "std = D**0.5\n",
        "sigma = (h-M)/std\n",
        "print(f'Рост человека, равный {h} см, отклоняется от математического ожидания роста в популяции на {sigma} сигм.')"
      ],
      "metadata": {
        "colab": {
          "base_uri": "https://localhost:8080/"
        },
        "id": "LefOvt-A-TEI",
        "outputId": "6fde596d-a005-4d2b-faf8-11cff894bd63"
      },
      "execution_count": 80,
      "outputs": [
        {
          "output_type": "stream",
          "name": "stdout",
          "text": [
            "Рост человека, равный 190 см, отклоняется от математического ожидания роста в популяции на 2.4 сигм.\n"
          ]
        }
      ]
    }
  ]
}